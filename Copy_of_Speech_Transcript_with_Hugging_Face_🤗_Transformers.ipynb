{
  "nbformat": 4,
  "nbformat_minor": 0,
  "metadata": {
    "colab": {
      "provenance": [],
      "include_colab_link": true
    },
    "kernelspec": {
      "name": "python3",
      "display_name": "Python 3"
    },
    "widgets": {
      "application/vnd.jupyter.widget-state+json": {
        "da3f253c5c6c444bb7a385aff7961722": {
          "model_module": "@jupyter-widgets/controls",
          "model_name": "HBoxModel",
          "model_module_version": "1.5.0",
          "state": {
            "_dom_classes": [],
            "_model_module": "@jupyter-widgets/controls",
            "_model_module_version": "1.5.0",
            "_model_name": "HBoxModel",
            "_view_count": null,
            "_view_module": "@jupyter-widgets/controls",
            "_view_module_version": "1.5.0",
            "_view_name": "HBoxView",
            "box_style": "",
            "children": [
              "IPY_MODEL_5f8ddedef43246b4947092bd6c3fd95c",
              "IPY_MODEL_ce0cca0652af493d8a22a82e37afe3a6",
              "IPY_MODEL_8ab6f59126d4408994a9f4ab2a72cd00"
            ],
            "layout": "IPY_MODEL_b24b78a5dc544e54bce501bb76f5dd09"
          }
        },
        "5f8ddedef43246b4947092bd6c3fd95c": {
          "model_module": "@jupyter-widgets/controls",
          "model_name": "HTMLModel",
          "model_module_version": "1.5.0",
          "state": {
            "_dom_classes": [],
            "_model_module": "@jupyter-widgets/controls",
            "_model_module_version": "1.5.0",
            "_model_name": "HTMLModel",
            "_view_count": null,
            "_view_module": "@jupyter-widgets/controls",
            "_view_module_version": "1.5.0",
            "_view_name": "HTMLView",
            "description": "",
            "description_tooltip": null,
            "layout": "IPY_MODEL_66acc1b74e06404a83d84d2920778cd2",
            "placeholder": "​",
            "style": "IPY_MODEL_dc8a828162b243738c0c26273d7e3963",
            "value": "Downloading: 100%"
          }
        },
        "ce0cca0652af493d8a22a82e37afe3a6": {
          "model_module": "@jupyter-widgets/controls",
          "model_name": "FloatProgressModel",
          "model_module_version": "1.5.0",
          "state": {
            "_dom_classes": [],
            "_model_module": "@jupyter-widgets/controls",
            "_model_module_version": "1.5.0",
            "_model_name": "FloatProgressModel",
            "_view_count": null,
            "_view_module": "@jupyter-widgets/controls",
            "_view_module_version": "1.5.0",
            "_view_name": "ProgressView",
            "bar_style": "success",
            "description": "",
            "description_tooltip": null,
            "layout": "IPY_MODEL_c572701ba78d4959b2fb85f88b22f8c6",
            "max": 291,
            "min": 0,
            "orientation": "horizontal",
            "style": "IPY_MODEL_52fb9c3393804d20a1265c6e68e0be68",
            "value": 291
          }
        },
        "8ab6f59126d4408994a9f4ab2a72cd00": {
          "model_module": "@jupyter-widgets/controls",
          "model_name": "HTMLModel",
          "model_module_version": "1.5.0",
          "state": {
            "_dom_classes": [],
            "_model_module": "@jupyter-widgets/controls",
            "_model_module_version": "1.5.0",
            "_model_name": "HTMLModel",
            "_view_count": null,
            "_view_module": "@jupyter-widgets/controls",
            "_view_module_version": "1.5.0",
            "_view_name": "HTMLView",
            "description": "",
            "description_tooltip": null,
            "layout": "IPY_MODEL_a8f0411f279b47d5b47ecd7139b68ac9",
            "placeholder": "​",
            "style": "IPY_MODEL_55219d5e37c44ed48544cb5f1d199bce",
            "value": " 291/291 [00:00&lt;00:00, 3.27kB/s]"
          }
        },
        "b24b78a5dc544e54bce501bb76f5dd09": {
          "model_module": "@jupyter-widgets/base",
          "model_name": "LayoutModel",
          "model_module_version": "1.2.0",
          "state": {
            "_model_module": "@jupyter-widgets/base",
            "_model_module_version": "1.2.0",
            "_model_name": "LayoutModel",
            "_view_count": null,
            "_view_module": "@jupyter-widgets/base",
            "_view_module_version": "1.2.0",
            "_view_name": "LayoutView",
            "align_content": null,
            "align_items": null,
            "align_self": null,
            "border": null,
            "bottom": null,
            "display": null,
            "flex": null,
            "flex_flow": null,
            "grid_area": null,
            "grid_auto_columns": null,
            "grid_auto_flow": null,
            "grid_auto_rows": null,
            "grid_column": null,
            "grid_gap": null,
            "grid_row": null,
            "grid_template_areas": null,
            "grid_template_columns": null,
            "grid_template_rows": null,
            "height": null,
            "justify_content": null,
            "justify_items": null,
            "left": null,
            "margin": null,
            "max_height": null,
            "max_width": null,
            "min_height": null,
            "min_width": null,
            "object_fit": null,
            "object_position": null,
            "order": null,
            "overflow": null,
            "overflow_x": null,
            "overflow_y": null,
            "padding": null,
            "right": null,
            "top": null,
            "visibility": null,
            "width": null
          }
        },
        "66acc1b74e06404a83d84d2920778cd2": {
          "model_module": "@jupyter-widgets/base",
          "model_name": "LayoutModel",
          "model_module_version": "1.2.0",
          "state": {
            "_model_module": "@jupyter-widgets/base",
            "_model_module_version": "1.2.0",
            "_model_name": "LayoutModel",
            "_view_count": null,
            "_view_module": "@jupyter-widgets/base",
            "_view_module_version": "1.2.0",
            "_view_name": "LayoutView",
            "align_content": null,
            "align_items": null,
            "align_self": null,
            "border": null,
            "bottom": null,
            "display": null,
            "flex": null,
            "flex_flow": null,
            "grid_area": null,
            "grid_auto_columns": null,
            "grid_auto_flow": null,
            "grid_auto_rows": null,
            "grid_column": null,
            "grid_gap": null,
            "grid_row": null,
            "grid_template_areas": null,
            "grid_template_columns": null,
            "grid_template_rows": null,
            "height": null,
            "justify_content": null,
            "justify_items": null,
            "left": null,
            "margin": null,
            "max_height": null,
            "max_width": null,
            "min_height": null,
            "min_width": null,
            "object_fit": null,
            "object_position": null,
            "order": null,
            "overflow": null,
            "overflow_x": null,
            "overflow_y": null,
            "padding": null,
            "right": null,
            "top": null,
            "visibility": null,
            "width": null
          }
        },
        "dc8a828162b243738c0c26273d7e3963": {
          "model_module": "@jupyter-widgets/controls",
          "model_name": "DescriptionStyleModel",
          "model_module_version": "1.5.0",
          "state": {
            "_model_module": "@jupyter-widgets/controls",
            "_model_module_version": "1.5.0",
            "_model_name": "DescriptionStyleModel",
            "_view_count": null,
            "_view_module": "@jupyter-widgets/base",
            "_view_module_version": "1.2.0",
            "_view_name": "StyleView",
            "description_width": ""
          }
        },
        "c572701ba78d4959b2fb85f88b22f8c6": {
          "model_module": "@jupyter-widgets/base",
          "model_name": "LayoutModel",
          "model_module_version": "1.2.0",
          "state": {
            "_model_module": "@jupyter-widgets/base",
            "_model_module_version": "1.2.0",
            "_model_name": "LayoutModel",
            "_view_count": null,
            "_view_module": "@jupyter-widgets/base",
            "_view_module_version": "1.2.0",
            "_view_name": "LayoutView",
            "align_content": null,
            "align_items": null,
            "align_self": null,
            "border": null,
            "bottom": null,
            "display": null,
            "flex": null,
            "flex_flow": null,
            "grid_area": null,
            "grid_auto_columns": null,
            "grid_auto_flow": null,
            "grid_auto_rows": null,
            "grid_column": null,
            "grid_gap": null,
            "grid_row": null,
            "grid_template_areas": null,
            "grid_template_columns": null,
            "grid_template_rows": null,
            "height": null,
            "justify_content": null,
            "justify_items": null,
            "left": null,
            "margin": null,
            "max_height": null,
            "max_width": null,
            "min_height": null,
            "min_width": null,
            "object_fit": null,
            "object_position": null,
            "order": null,
            "overflow": null,
            "overflow_x": null,
            "overflow_y": null,
            "padding": null,
            "right": null,
            "top": null,
            "visibility": null,
            "width": null
          }
        },
        "52fb9c3393804d20a1265c6e68e0be68": {
          "model_module": "@jupyter-widgets/controls",
          "model_name": "ProgressStyleModel",
          "model_module_version": "1.5.0",
          "state": {
            "_model_module": "@jupyter-widgets/controls",
            "_model_module_version": "1.5.0",
            "_model_name": "ProgressStyleModel",
            "_view_count": null,
            "_view_module": "@jupyter-widgets/base",
            "_view_module_version": "1.2.0",
            "_view_name": "StyleView",
            "bar_color": null,
            "description_width": ""
          }
        },
        "a8f0411f279b47d5b47ecd7139b68ac9": {
          "model_module": "@jupyter-widgets/base",
          "model_name": "LayoutModel",
          "model_module_version": "1.2.0",
          "state": {
            "_model_module": "@jupyter-widgets/base",
            "_model_module_version": "1.2.0",
            "_model_name": "LayoutModel",
            "_view_count": null,
            "_view_module": "@jupyter-widgets/base",
            "_view_module_version": "1.2.0",
            "_view_name": "LayoutView",
            "align_content": null,
            "align_items": null,
            "align_self": null,
            "border": null,
            "bottom": null,
            "display": null,
            "flex": null,
            "flex_flow": null,
            "grid_area": null,
            "grid_auto_columns": null,
            "grid_auto_flow": null,
            "grid_auto_rows": null,
            "grid_column": null,
            "grid_gap": null,
            "grid_row": null,
            "grid_template_areas": null,
            "grid_template_columns": null,
            "grid_template_rows": null,
            "height": null,
            "justify_content": null,
            "justify_items": null,
            "left": null,
            "margin": null,
            "max_height": null,
            "max_width": null,
            "min_height": null,
            "min_width": null,
            "object_fit": null,
            "object_position": null,
            "order": null,
            "overflow": null,
            "overflow_x": null,
            "overflow_y": null,
            "padding": null,
            "right": null,
            "top": null,
            "visibility": null,
            "width": null
          }
        },
        "55219d5e37c44ed48544cb5f1d199bce": {
          "model_module": "@jupyter-widgets/controls",
          "model_name": "DescriptionStyleModel",
          "model_module_version": "1.5.0",
          "state": {
            "_model_module": "@jupyter-widgets/controls",
            "_model_module_version": "1.5.0",
            "_model_name": "DescriptionStyleModel",
            "_view_count": null,
            "_view_module": "@jupyter-widgets/base",
            "_view_module_version": "1.2.0",
            "_view_name": "StyleView",
            "description_width": ""
          }
        },
        "2de5c1a9f1a8453d97b39e7cd878017f": {
          "model_module": "@jupyter-widgets/controls",
          "model_name": "HBoxModel",
          "model_module_version": "1.5.0",
          "state": {
            "_dom_classes": [],
            "_model_module": "@jupyter-widgets/controls",
            "_model_module_version": "1.5.0",
            "_model_name": "HBoxModel",
            "_view_count": null,
            "_view_module": "@jupyter-widgets/controls",
            "_view_module_version": "1.5.0",
            "_view_name": "HBoxView",
            "box_style": "",
            "children": [
              "IPY_MODEL_c5d283a13eeb4055ab5a789f7589c468",
              "IPY_MODEL_a11abe73c31940d095881188cbc21e1c",
              "IPY_MODEL_a14ea678336f4a19bed211d42567efc2"
            ],
            "layout": "IPY_MODEL_41917d5a9d684800899fd1cd8ef2fddd"
          }
        },
        "c5d283a13eeb4055ab5a789f7589c468": {
          "model_module": "@jupyter-widgets/controls",
          "model_name": "HTMLModel",
          "model_module_version": "1.5.0",
          "state": {
            "_dom_classes": [],
            "_model_module": "@jupyter-widgets/controls",
            "_model_module_version": "1.5.0",
            "_model_name": "HTMLModel",
            "_view_count": null,
            "_view_module": "@jupyter-widgets/controls",
            "_view_module_version": "1.5.0",
            "_view_name": "HTMLView",
            "description": "",
            "description_tooltip": null,
            "layout": "IPY_MODEL_d8b3b0e175e14074b058309a967ef97b",
            "placeholder": "​",
            "style": "IPY_MODEL_9ce4cba132ef4ba48c14946982978a93",
            "value": "Downloading: 100%"
          }
        },
        "a11abe73c31940d095881188cbc21e1c": {
          "model_module": "@jupyter-widgets/controls",
          "model_name": "FloatProgressModel",
          "model_module_version": "1.5.0",
          "state": {
            "_dom_classes": [],
            "_model_module": "@jupyter-widgets/controls",
            "_model_module_version": "1.5.0",
            "_model_name": "FloatProgressModel",
            "_view_count": null,
            "_view_module": "@jupyter-widgets/controls",
            "_view_module_version": "1.5.0",
            "_view_name": "ProgressView",
            "bar_style": "success",
            "description": "",
            "description_tooltip": null,
            "layout": "IPY_MODEL_0177b9aed1a4451e97dd835fcec2c17f",
            "max": 163,
            "min": 0,
            "orientation": "horizontal",
            "style": "IPY_MODEL_d1394ed4494d4983932eac903b814eef",
            "value": 163
          }
        },
        "a14ea678336f4a19bed211d42567efc2": {
          "model_module": "@jupyter-widgets/controls",
          "model_name": "HTMLModel",
          "model_module_version": "1.5.0",
          "state": {
            "_dom_classes": [],
            "_model_module": "@jupyter-widgets/controls",
            "_model_module_version": "1.5.0",
            "_model_name": "HTMLModel",
            "_view_count": null,
            "_view_module": "@jupyter-widgets/controls",
            "_view_module_version": "1.5.0",
            "_view_name": "HTMLView",
            "description": "",
            "description_tooltip": null,
            "layout": "IPY_MODEL_4a73f46bf2b546bcbcfc391c37020bfe",
            "placeholder": "​",
            "style": "IPY_MODEL_163f8d55cdda4d53816481e6505d94a7",
            "value": " 163/163 [00:00&lt;00:00, 1.94kB/s]"
          }
        },
        "41917d5a9d684800899fd1cd8ef2fddd": {
          "model_module": "@jupyter-widgets/base",
          "model_name": "LayoutModel",
          "model_module_version": "1.2.0",
          "state": {
            "_model_module": "@jupyter-widgets/base",
            "_model_module_version": "1.2.0",
            "_model_name": "LayoutModel",
            "_view_count": null,
            "_view_module": "@jupyter-widgets/base",
            "_view_module_version": "1.2.0",
            "_view_name": "LayoutView",
            "align_content": null,
            "align_items": null,
            "align_self": null,
            "border": null,
            "bottom": null,
            "display": null,
            "flex": null,
            "flex_flow": null,
            "grid_area": null,
            "grid_auto_columns": null,
            "grid_auto_flow": null,
            "grid_auto_rows": null,
            "grid_column": null,
            "grid_gap": null,
            "grid_row": null,
            "grid_template_areas": null,
            "grid_template_columns": null,
            "grid_template_rows": null,
            "height": null,
            "justify_content": null,
            "justify_items": null,
            "left": null,
            "margin": null,
            "max_height": null,
            "max_width": null,
            "min_height": null,
            "min_width": null,
            "object_fit": null,
            "object_position": null,
            "order": null,
            "overflow": null,
            "overflow_x": null,
            "overflow_y": null,
            "padding": null,
            "right": null,
            "top": null,
            "visibility": null,
            "width": null
          }
        },
        "d8b3b0e175e14074b058309a967ef97b": {
          "model_module": "@jupyter-widgets/base",
          "model_name": "LayoutModel",
          "model_module_version": "1.2.0",
          "state": {
            "_model_module": "@jupyter-widgets/base",
            "_model_module_version": "1.2.0",
            "_model_name": "LayoutModel",
            "_view_count": null,
            "_view_module": "@jupyter-widgets/base",
            "_view_module_version": "1.2.0",
            "_view_name": "LayoutView",
            "align_content": null,
            "align_items": null,
            "align_self": null,
            "border": null,
            "bottom": null,
            "display": null,
            "flex": null,
            "flex_flow": null,
            "grid_area": null,
            "grid_auto_columns": null,
            "grid_auto_flow": null,
            "grid_auto_rows": null,
            "grid_column": null,
            "grid_gap": null,
            "grid_row": null,
            "grid_template_areas": null,
            "grid_template_columns": null,
            "grid_template_rows": null,
            "height": null,
            "justify_content": null,
            "justify_items": null,
            "left": null,
            "margin": null,
            "max_height": null,
            "max_width": null,
            "min_height": null,
            "min_width": null,
            "object_fit": null,
            "object_position": null,
            "order": null,
            "overflow": null,
            "overflow_x": null,
            "overflow_y": null,
            "padding": null,
            "right": null,
            "top": null,
            "visibility": null,
            "width": null
          }
        },
        "9ce4cba132ef4ba48c14946982978a93": {
          "model_module": "@jupyter-widgets/controls",
          "model_name": "DescriptionStyleModel",
          "model_module_version": "1.5.0",
          "state": {
            "_model_module": "@jupyter-widgets/controls",
            "_model_module_version": "1.5.0",
            "_model_name": "DescriptionStyleModel",
            "_view_count": null,
            "_view_module": "@jupyter-widgets/base",
            "_view_module_version": "1.2.0",
            "_view_name": "StyleView",
            "description_width": ""
          }
        },
        "0177b9aed1a4451e97dd835fcec2c17f": {
          "model_module": "@jupyter-widgets/base",
          "model_name": "LayoutModel",
          "model_module_version": "1.2.0",
          "state": {
            "_model_module": "@jupyter-widgets/base",
            "_model_module_version": "1.2.0",
            "_model_name": "LayoutModel",
            "_view_count": null,
            "_view_module": "@jupyter-widgets/base",
            "_view_module_version": "1.2.0",
            "_view_name": "LayoutView",
            "align_content": null,
            "align_items": null,
            "align_self": null,
            "border": null,
            "bottom": null,
            "display": null,
            "flex": null,
            "flex_flow": null,
            "grid_area": null,
            "grid_auto_columns": null,
            "grid_auto_flow": null,
            "grid_auto_rows": null,
            "grid_column": null,
            "grid_gap": null,
            "grid_row": null,
            "grid_template_areas": null,
            "grid_template_columns": null,
            "grid_template_rows": null,
            "height": null,
            "justify_content": null,
            "justify_items": null,
            "left": null,
            "margin": null,
            "max_height": null,
            "max_width": null,
            "min_height": null,
            "min_width": null,
            "object_fit": null,
            "object_position": null,
            "order": null,
            "overflow": null,
            "overflow_x": null,
            "overflow_y": null,
            "padding": null,
            "right": null,
            "top": null,
            "visibility": null,
            "width": null
          }
        },
        "d1394ed4494d4983932eac903b814eef": {
          "model_module": "@jupyter-widgets/controls",
          "model_name": "ProgressStyleModel",
          "model_module_version": "1.5.0",
          "state": {
            "_model_module": "@jupyter-widgets/controls",
            "_model_module_version": "1.5.0",
            "_model_name": "ProgressStyleModel",
            "_view_count": null,
            "_view_module": "@jupyter-widgets/base",
            "_view_module_version": "1.2.0",
            "_view_name": "StyleView",
            "bar_color": null,
            "description_width": ""
          }
        },
        "4a73f46bf2b546bcbcfc391c37020bfe": {
          "model_module": "@jupyter-widgets/base",
          "model_name": "LayoutModel",
          "model_module_version": "1.2.0",
          "state": {
            "_model_module": "@jupyter-widgets/base",
            "_model_module_version": "1.2.0",
            "_model_name": "LayoutModel",
            "_view_count": null,
            "_view_module": "@jupyter-widgets/base",
            "_view_module_version": "1.2.0",
            "_view_name": "LayoutView",
            "align_content": null,
            "align_items": null,
            "align_self": null,
            "border": null,
            "bottom": null,
            "display": null,
            "flex": null,
            "flex_flow": null,
            "grid_area": null,
            "grid_auto_columns": null,
            "grid_auto_flow": null,
            "grid_auto_rows": null,
            "grid_column": null,
            "grid_gap": null,
            "grid_row": null,
            "grid_template_areas": null,
            "grid_template_columns": null,
            "grid_template_rows": null,
            "height": null,
            "justify_content": null,
            "justify_items": null,
            "left": null,
            "margin": null,
            "max_height": null,
            "max_width": null,
            "min_height": null,
            "min_width": null,
            "object_fit": null,
            "object_position": null,
            "order": null,
            "overflow": null,
            "overflow_x": null,
            "overflow_y": null,
            "padding": null,
            "right": null,
            "top": null,
            "visibility": null,
            "width": null
          }
        },
        "163f8d55cdda4d53816481e6505d94a7": {
          "model_module": "@jupyter-widgets/controls",
          "model_name": "DescriptionStyleModel",
          "model_module_version": "1.5.0",
          "state": {
            "_model_module": "@jupyter-widgets/controls",
            "_model_module_version": "1.5.0",
            "_model_name": "DescriptionStyleModel",
            "_view_count": null,
            "_view_module": "@jupyter-widgets/base",
            "_view_module_version": "1.2.0",
            "_view_name": "StyleView",
            "description_width": ""
          }
        },
        "f6d7fec9364a4890b562b100a73bbcce": {
          "model_module": "@jupyter-widgets/controls",
          "model_name": "HBoxModel",
          "model_module_version": "1.5.0",
          "state": {
            "_dom_classes": [],
            "_model_module": "@jupyter-widgets/controls",
            "_model_module_version": "1.5.0",
            "_model_name": "HBoxModel",
            "_view_count": null,
            "_view_module": "@jupyter-widgets/controls",
            "_view_module_version": "1.5.0",
            "_view_name": "HBoxView",
            "box_style": "",
            "children": [
              "IPY_MODEL_a29e901cdb2944a4be5a6bf4964f5539",
              "IPY_MODEL_52f3248befc04906ab1064f92de197d2",
              "IPY_MODEL_3fb0526f366c4f889aa6a1bf0698ac08"
            ],
            "layout": "IPY_MODEL_662d8127c1b545c2b0cd20e25b360934"
          }
        },
        "a29e901cdb2944a4be5a6bf4964f5539": {
          "model_module": "@jupyter-widgets/controls",
          "model_name": "HTMLModel",
          "model_module_version": "1.5.0",
          "state": {
            "_dom_classes": [],
            "_model_module": "@jupyter-widgets/controls",
            "_model_module_version": "1.5.0",
            "_model_name": "HTMLModel",
            "_view_count": null,
            "_view_module": "@jupyter-widgets/controls",
            "_view_module_version": "1.5.0",
            "_view_name": "HTMLView",
            "description": "",
            "description_tooltip": null,
            "layout": "IPY_MODEL_cdf87ba7446343dd87d4c39bb1680e4f",
            "placeholder": "​",
            "style": "IPY_MODEL_ca3768e0ae6e4d7298644b918f3a450a",
            "value": "Downloading: 100%"
          }
        },
        "52f3248befc04906ab1064f92de197d2": {
          "model_module": "@jupyter-widgets/controls",
          "model_name": "FloatProgressModel",
          "model_module_version": "1.5.0",
          "state": {
            "_dom_classes": [],
            "_model_module": "@jupyter-widgets/controls",
            "_model_module_version": "1.5.0",
            "_model_name": "FloatProgressModel",
            "_view_count": null,
            "_view_module": "@jupyter-widgets/controls",
            "_view_module_version": "1.5.0",
            "_view_name": "ProgressView",
            "bar_style": "success",
            "description": "",
            "description_tooltip": null,
            "layout": "IPY_MODEL_b1e89f2067254972b2d9ef03630ba2e3",
            "max": 85,
            "min": 0,
            "orientation": "horizontal",
            "style": "IPY_MODEL_af3d7d561d6b40acb52f7ce0f4492533",
            "value": 85
          }
        },
        "3fb0526f366c4f889aa6a1bf0698ac08": {
          "model_module": "@jupyter-widgets/controls",
          "model_name": "HTMLModel",
          "model_module_version": "1.5.0",
          "state": {
            "_dom_classes": [],
            "_model_module": "@jupyter-widgets/controls",
            "_model_module_version": "1.5.0",
            "_model_name": "HTMLModel",
            "_view_count": null,
            "_view_module": "@jupyter-widgets/controls",
            "_view_module_version": "1.5.0",
            "_view_name": "HTMLView",
            "description": "",
            "description_tooltip": null,
            "layout": "IPY_MODEL_a29591a109394531950ff7c6762f4f89",
            "placeholder": "​",
            "style": "IPY_MODEL_bf229a260fdf4c1da5e8c2f3080e539f",
            "value": " 85.0/85.0 [00:00&lt;00:00, 889B/s]"
          }
        },
        "662d8127c1b545c2b0cd20e25b360934": {
          "model_module": "@jupyter-widgets/base",
          "model_name": "LayoutModel",
          "model_module_version": "1.2.0",
          "state": {
            "_model_module": "@jupyter-widgets/base",
            "_model_module_version": "1.2.0",
            "_model_name": "LayoutModel",
            "_view_count": null,
            "_view_module": "@jupyter-widgets/base",
            "_view_module_version": "1.2.0",
            "_view_name": "LayoutView",
            "align_content": null,
            "align_items": null,
            "align_self": null,
            "border": null,
            "bottom": null,
            "display": null,
            "flex": null,
            "flex_flow": null,
            "grid_area": null,
            "grid_auto_columns": null,
            "grid_auto_flow": null,
            "grid_auto_rows": null,
            "grid_column": null,
            "grid_gap": null,
            "grid_row": null,
            "grid_template_areas": null,
            "grid_template_columns": null,
            "grid_template_rows": null,
            "height": null,
            "justify_content": null,
            "justify_items": null,
            "left": null,
            "margin": null,
            "max_height": null,
            "max_width": null,
            "min_height": null,
            "min_width": null,
            "object_fit": null,
            "object_position": null,
            "order": null,
            "overflow": null,
            "overflow_x": null,
            "overflow_y": null,
            "padding": null,
            "right": null,
            "top": null,
            "visibility": null,
            "width": null
          }
        },
        "cdf87ba7446343dd87d4c39bb1680e4f": {
          "model_module": "@jupyter-widgets/base",
          "model_name": "LayoutModel",
          "model_module_version": "1.2.0",
          "state": {
            "_model_module": "@jupyter-widgets/base",
            "_model_module_version": "1.2.0",
            "_model_name": "LayoutModel",
            "_view_count": null,
            "_view_module": "@jupyter-widgets/base",
            "_view_module_version": "1.2.0",
            "_view_name": "LayoutView",
            "align_content": null,
            "align_items": null,
            "align_self": null,
            "border": null,
            "bottom": null,
            "display": null,
            "flex": null,
            "flex_flow": null,
            "grid_area": null,
            "grid_auto_columns": null,
            "grid_auto_flow": null,
            "grid_auto_rows": null,
            "grid_column": null,
            "grid_gap": null,
            "grid_row": null,
            "grid_template_areas": null,
            "grid_template_columns": null,
            "grid_template_rows": null,
            "height": null,
            "justify_content": null,
            "justify_items": null,
            "left": null,
            "margin": null,
            "max_height": null,
            "max_width": null,
            "min_height": null,
            "min_width": null,
            "object_fit": null,
            "object_position": null,
            "order": null,
            "overflow": null,
            "overflow_x": null,
            "overflow_y": null,
            "padding": null,
            "right": null,
            "top": null,
            "visibility": null,
            "width": null
          }
        },
        "ca3768e0ae6e4d7298644b918f3a450a": {
          "model_module": "@jupyter-widgets/controls",
          "model_name": "DescriptionStyleModel",
          "model_module_version": "1.5.0",
          "state": {
            "_model_module": "@jupyter-widgets/controls",
            "_model_module_version": "1.5.0",
            "_model_name": "DescriptionStyleModel",
            "_view_count": null,
            "_view_module": "@jupyter-widgets/base",
            "_view_module_version": "1.2.0",
            "_view_name": "StyleView",
            "description_width": ""
          }
        },
        "b1e89f2067254972b2d9ef03630ba2e3": {
          "model_module": "@jupyter-widgets/base",
          "model_name": "LayoutModel",
          "model_module_version": "1.2.0",
          "state": {
            "_model_module": "@jupyter-widgets/base",
            "_model_module_version": "1.2.0",
            "_model_name": "LayoutModel",
            "_view_count": null,
            "_view_module": "@jupyter-widgets/base",
            "_view_module_version": "1.2.0",
            "_view_name": "LayoutView",
            "align_content": null,
            "align_items": null,
            "align_self": null,
            "border": null,
            "bottom": null,
            "display": null,
            "flex": null,
            "flex_flow": null,
            "grid_area": null,
            "grid_auto_columns": null,
            "grid_auto_flow": null,
            "grid_auto_rows": null,
            "grid_column": null,
            "grid_gap": null,
            "grid_row": null,
            "grid_template_areas": null,
            "grid_template_columns": null,
            "grid_template_rows": null,
            "height": null,
            "justify_content": null,
            "justify_items": null,
            "left": null,
            "margin": null,
            "max_height": null,
            "max_width": null,
            "min_height": null,
            "min_width": null,
            "object_fit": null,
            "object_position": null,
            "order": null,
            "overflow": null,
            "overflow_x": null,
            "overflow_y": null,
            "padding": null,
            "right": null,
            "top": null,
            "visibility": null,
            "width": null
          }
        },
        "af3d7d561d6b40acb52f7ce0f4492533": {
          "model_module": "@jupyter-widgets/controls",
          "model_name": "ProgressStyleModel",
          "model_module_version": "1.5.0",
          "state": {
            "_model_module": "@jupyter-widgets/controls",
            "_model_module_version": "1.5.0",
            "_model_name": "ProgressStyleModel",
            "_view_count": null,
            "_view_module": "@jupyter-widgets/base",
            "_view_module_version": "1.2.0",
            "_view_name": "StyleView",
            "bar_color": null,
            "description_width": ""
          }
        },
        "a29591a109394531950ff7c6762f4f89": {
          "model_module": "@jupyter-widgets/base",
          "model_name": "LayoutModel",
          "model_module_version": "1.2.0",
          "state": {
            "_model_module": "@jupyter-widgets/base",
            "_model_module_version": "1.2.0",
            "_model_name": "LayoutModel",
            "_view_count": null,
            "_view_module": "@jupyter-widgets/base",
            "_view_module_version": "1.2.0",
            "_view_name": "LayoutView",
            "align_content": null,
            "align_items": null,
            "align_self": null,
            "border": null,
            "bottom": null,
            "display": null,
            "flex": null,
            "flex_flow": null,
            "grid_area": null,
            "grid_auto_columns": null,
            "grid_auto_flow": null,
            "grid_auto_rows": null,
            "grid_column": null,
            "grid_gap": null,
            "grid_row": null,
            "grid_template_areas": null,
            "grid_template_columns": null,
            "grid_template_rows": null,
            "height": null,
            "justify_content": null,
            "justify_items": null,
            "left": null,
            "margin": null,
            "max_height": null,
            "max_width": null,
            "min_height": null,
            "min_width": null,
            "object_fit": null,
            "object_position": null,
            "order": null,
            "overflow": null,
            "overflow_x": null,
            "overflow_y": null,
            "padding": null,
            "right": null,
            "top": null,
            "visibility": null,
            "width": null
          }
        },
        "bf229a260fdf4c1da5e8c2f3080e539f": {
          "model_module": "@jupyter-widgets/controls",
          "model_name": "DescriptionStyleModel",
          "model_module_version": "1.5.0",
          "state": {
            "_model_module": "@jupyter-widgets/controls",
            "_model_module_version": "1.5.0",
            "_model_name": "DescriptionStyleModel",
            "_view_count": null,
            "_view_module": "@jupyter-widgets/base",
            "_view_module_version": "1.2.0",
            "_view_name": "StyleView",
            "description_width": ""
          }
        },
        "d2dbb7ee45ce469e866037b6ac8a9298": {
          "model_module": "@jupyter-widgets/controls",
          "model_name": "HBoxModel",
          "model_module_version": "1.5.0",
          "state": {
            "_dom_classes": [],
            "_model_module": "@jupyter-widgets/controls",
            "_model_module_version": "1.5.0",
            "_model_name": "HBoxModel",
            "_view_count": null,
            "_view_module": "@jupyter-widgets/controls",
            "_view_module_version": "1.5.0",
            "_view_name": "HBoxView",
            "box_style": "",
            "children": [
              "IPY_MODEL_dd3ce18aa33943d7956eb68af2be737d",
              "IPY_MODEL_715eb2e40070407892fd89936d022507",
              "IPY_MODEL_b3c786e6ef484c869464f9916eab1e59"
            ],
            "layout": "IPY_MODEL_7003e7721e594226a0254ad894bc0d4b"
          }
        },
        "dd3ce18aa33943d7956eb68af2be737d": {
          "model_module": "@jupyter-widgets/controls",
          "model_name": "HTMLModel",
          "model_module_version": "1.5.0",
          "state": {
            "_dom_classes": [],
            "_model_module": "@jupyter-widgets/controls",
            "_model_module_version": "1.5.0",
            "_model_name": "HTMLModel",
            "_view_count": null,
            "_view_module": "@jupyter-widgets/controls",
            "_view_module_version": "1.5.0",
            "_view_name": "HTMLView",
            "description": "",
            "description_tooltip": null,
            "layout": "IPY_MODEL_19e6d5ac973f440b9af7611f0f440b61",
            "placeholder": "​",
            "style": "IPY_MODEL_92b7f25ae5e5469faa55d214c0061bb9",
            "value": "Downloading: 100%"
          }
        },
        "715eb2e40070407892fd89936d022507": {
          "model_module": "@jupyter-widgets/controls",
          "model_name": "FloatProgressModel",
          "model_module_version": "1.5.0",
          "state": {
            "_dom_classes": [],
            "_model_module": "@jupyter-widgets/controls",
            "_model_module_version": "1.5.0",
            "_model_name": "FloatProgressModel",
            "_view_count": null,
            "_view_module": "@jupyter-widgets/controls",
            "_view_module_version": "1.5.0",
            "_view_name": "ProgressView",
            "bar_style": "success",
            "description": "",
            "description_tooltip": null,
            "layout": "IPY_MODEL_674711761d474e2aaca0ed6ab9658455",
            "max": 1596,
            "min": 0,
            "orientation": "horizontal",
            "style": "IPY_MODEL_a9c94122652e494db5d04af4ed4e8835",
            "value": 1596
          }
        },
        "b3c786e6ef484c869464f9916eab1e59": {
          "model_module": "@jupyter-widgets/controls",
          "model_name": "HTMLModel",
          "model_module_version": "1.5.0",
          "state": {
            "_dom_classes": [],
            "_model_module": "@jupyter-widgets/controls",
            "_model_module_version": "1.5.0",
            "_model_name": "HTMLModel",
            "_view_count": null,
            "_view_module": "@jupyter-widgets/controls",
            "_view_module_version": "1.5.0",
            "_view_name": "HTMLView",
            "description": "",
            "description_tooltip": null,
            "layout": "IPY_MODEL_eba38eee6c184811ae010be13a4d16e1",
            "placeholder": "​",
            "style": "IPY_MODEL_3d2fe93b54ec41d0b754ec58cd9995df",
            "value": " 1.60k/1.60k [00:00&lt;00:00, 23.0kB/s]"
          }
        },
        "7003e7721e594226a0254ad894bc0d4b": {
          "model_module": "@jupyter-widgets/base",
          "model_name": "LayoutModel",
          "model_module_version": "1.2.0",
          "state": {
            "_model_module": "@jupyter-widgets/base",
            "_model_module_version": "1.2.0",
            "_model_name": "LayoutModel",
            "_view_count": null,
            "_view_module": "@jupyter-widgets/base",
            "_view_module_version": "1.2.0",
            "_view_name": "LayoutView",
            "align_content": null,
            "align_items": null,
            "align_self": null,
            "border": null,
            "bottom": null,
            "display": null,
            "flex": null,
            "flex_flow": null,
            "grid_area": null,
            "grid_auto_columns": null,
            "grid_auto_flow": null,
            "grid_auto_rows": null,
            "grid_column": null,
            "grid_gap": null,
            "grid_row": null,
            "grid_template_areas": null,
            "grid_template_columns": null,
            "grid_template_rows": null,
            "height": null,
            "justify_content": null,
            "justify_items": null,
            "left": null,
            "margin": null,
            "max_height": null,
            "max_width": null,
            "min_height": null,
            "min_width": null,
            "object_fit": null,
            "object_position": null,
            "order": null,
            "overflow": null,
            "overflow_x": null,
            "overflow_y": null,
            "padding": null,
            "right": null,
            "top": null,
            "visibility": null,
            "width": null
          }
        },
        "19e6d5ac973f440b9af7611f0f440b61": {
          "model_module": "@jupyter-widgets/base",
          "model_name": "LayoutModel",
          "model_module_version": "1.2.0",
          "state": {
            "_model_module": "@jupyter-widgets/base",
            "_model_module_version": "1.2.0",
            "_model_name": "LayoutModel",
            "_view_count": null,
            "_view_module": "@jupyter-widgets/base",
            "_view_module_version": "1.2.0",
            "_view_name": "LayoutView",
            "align_content": null,
            "align_items": null,
            "align_self": null,
            "border": null,
            "bottom": null,
            "display": null,
            "flex": null,
            "flex_flow": null,
            "grid_area": null,
            "grid_auto_columns": null,
            "grid_auto_flow": null,
            "grid_auto_rows": null,
            "grid_column": null,
            "grid_gap": null,
            "grid_row": null,
            "grid_template_areas": null,
            "grid_template_columns": null,
            "grid_template_rows": null,
            "height": null,
            "justify_content": null,
            "justify_items": null,
            "left": null,
            "margin": null,
            "max_height": null,
            "max_width": null,
            "min_height": null,
            "min_width": null,
            "object_fit": null,
            "object_position": null,
            "order": null,
            "overflow": null,
            "overflow_x": null,
            "overflow_y": null,
            "padding": null,
            "right": null,
            "top": null,
            "visibility": null,
            "width": null
          }
        },
        "92b7f25ae5e5469faa55d214c0061bb9": {
          "model_module": "@jupyter-widgets/controls",
          "model_name": "DescriptionStyleModel",
          "model_module_version": "1.5.0",
          "state": {
            "_model_module": "@jupyter-widgets/controls",
            "_model_module_version": "1.5.0",
            "_model_name": "DescriptionStyleModel",
            "_view_count": null,
            "_view_module": "@jupyter-widgets/base",
            "_view_module_version": "1.2.0",
            "_view_name": "StyleView",
            "description_width": ""
          }
        },
        "674711761d474e2aaca0ed6ab9658455": {
          "model_module": "@jupyter-widgets/base",
          "model_name": "LayoutModel",
          "model_module_version": "1.2.0",
          "state": {
            "_model_module": "@jupyter-widgets/base",
            "_model_module_version": "1.2.0",
            "_model_name": "LayoutModel",
            "_view_count": null,
            "_view_module": "@jupyter-widgets/base",
            "_view_module_version": "1.2.0",
            "_view_name": "LayoutView",
            "align_content": null,
            "align_items": null,
            "align_self": null,
            "border": null,
            "bottom": null,
            "display": null,
            "flex": null,
            "flex_flow": null,
            "grid_area": null,
            "grid_auto_columns": null,
            "grid_auto_flow": null,
            "grid_auto_rows": null,
            "grid_column": null,
            "grid_gap": null,
            "grid_row": null,
            "grid_template_areas": null,
            "grid_template_columns": null,
            "grid_template_rows": null,
            "height": null,
            "justify_content": null,
            "justify_items": null,
            "left": null,
            "margin": null,
            "max_height": null,
            "max_width": null,
            "min_height": null,
            "min_width": null,
            "object_fit": null,
            "object_position": null,
            "order": null,
            "overflow": null,
            "overflow_x": null,
            "overflow_y": null,
            "padding": null,
            "right": null,
            "top": null,
            "visibility": null,
            "width": null
          }
        },
        "a9c94122652e494db5d04af4ed4e8835": {
          "model_module": "@jupyter-widgets/controls",
          "model_name": "ProgressStyleModel",
          "model_module_version": "1.5.0",
          "state": {
            "_model_module": "@jupyter-widgets/controls",
            "_model_module_version": "1.5.0",
            "_model_name": "ProgressStyleModel",
            "_view_count": null,
            "_view_module": "@jupyter-widgets/base",
            "_view_module_version": "1.2.0",
            "_view_name": "StyleView",
            "bar_color": null,
            "description_width": ""
          }
        },
        "eba38eee6c184811ae010be13a4d16e1": {
          "model_module": "@jupyter-widgets/base",
          "model_name": "LayoutModel",
          "model_module_version": "1.2.0",
          "state": {
            "_model_module": "@jupyter-widgets/base",
            "_model_module_version": "1.2.0",
            "_model_name": "LayoutModel",
            "_view_count": null,
            "_view_module": "@jupyter-widgets/base",
            "_view_module_version": "1.2.0",
            "_view_name": "LayoutView",
            "align_content": null,
            "align_items": null,
            "align_self": null,
            "border": null,
            "bottom": null,
            "display": null,
            "flex": null,
            "flex_flow": null,
            "grid_area": null,
            "grid_auto_columns": null,
            "grid_auto_flow": null,
            "grid_auto_rows": null,
            "grid_column": null,
            "grid_gap": null,
            "grid_row": null,
            "grid_template_areas": null,
            "grid_template_columns": null,
            "grid_template_rows": null,
            "height": null,
            "justify_content": null,
            "justify_items": null,
            "left": null,
            "margin": null,
            "max_height": null,
            "max_width": null,
            "min_height": null,
            "min_width": null,
            "object_fit": null,
            "object_position": null,
            "order": null,
            "overflow": null,
            "overflow_x": null,
            "overflow_y": null,
            "padding": null,
            "right": null,
            "top": null,
            "visibility": null,
            "width": null
          }
        },
        "3d2fe93b54ec41d0b754ec58cd9995df": {
          "model_module": "@jupyter-widgets/controls",
          "model_name": "DescriptionStyleModel",
          "model_module_version": "1.5.0",
          "state": {
            "_model_module": "@jupyter-widgets/controls",
            "_model_module_version": "1.5.0",
            "_model_name": "DescriptionStyleModel",
            "_view_count": null,
            "_view_module": "@jupyter-widgets/base",
            "_view_module_version": "1.2.0",
            "_view_name": "StyleView",
            "description_width": ""
          }
        },
        "892a795cb72c4d6781ea9f9fc827e418": {
          "model_module": "@jupyter-widgets/controls",
          "model_name": "HBoxModel",
          "model_module_version": "1.5.0",
          "state": {
            "_dom_classes": [],
            "_model_module": "@jupyter-widgets/controls",
            "_model_module_version": "1.5.0",
            "_model_name": "HBoxModel",
            "_view_count": null,
            "_view_module": "@jupyter-widgets/controls",
            "_view_module_version": "1.5.0",
            "_view_name": "HBoxView",
            "box_style": "",
            "children": [
              "IPY_MODEL_a3bb8fcdcafd4e1a90f832dab1df1096",
              "IPY_MODEL_b1ebe9664d7f406a8aaf949106073ba3",
              "IPY_MODEL_1b7f9050395542e8b77d2eaf4f701df2"
            ],
            "layout": "IPY_MODEL_54d023edf1894919866eff0035b1967a"
          }
        },
        "a3bb8fcdcafd4e1a90f832dab1df1096": {
          "model_module": "@jupyter-widgets/controls",
          "model_name": "HTMLModel",
          "model_module_version": "1.5.0",
          "state": {
            "_dom_classes": [],
            "_model_module": "@jupyter-widgets/controls",
            "_model_module_version": "1.5.0",
            "_model_name": "HTMLModel",
            "_view_count": null,
            "_view_module": "@jupyter-widgets/controls",
            "_view_module_version": "1.5.0",
            "_view_name": "HTMLView",
            "description": "",
            "description_tooltip": null,
            "layout": "IPY_MODEL_9f969879d16d4ed8bf1c08ba92eab634",
            "placeholder": "​",
            "style": "IPY_MODEL_1c3b309dc1ba47cfac607567a22e6256",
            "value": "Downloading: 100%"
          }
        },
        "b1ebe9664d7f406a8aaf949106073ba3": {
          "model_module": "@jupyter-widgets/controls",
          "model_name": "FloatProgressModel",
          "model_module_version": "1.5.0",
          "state": {
            "_dom_classes": [],
            "_model_module": "@jupyter-widgets/controls",
            "_model_module_version": "1.5.0",
            "_model_name": "FloatProgressModel",
            "_view_count": null,
            "_view_module": "@jupyter-widgets/controls",
            "_view_module_version": "1.5.0",
            "_view_name": "ProgressView",
            "bar_style": "success",
            "description": "",
            "description_tooltip": null,
            "layout": "IPY_MODEL_20c14e1dfcc14607870a8539c008635c",
            "max": 377667514,
            "min": 0,
            "orientation": "horizontal",
            "style": "IPY_MODEL_1e665799c9d2433ca99585ca54910f87",
            "value": 377667514
          }
        },
        "1b7f9050395542e8b77d2eaf4f701df2": {
          "model_module": "@jupyter-widgets/controls",
          "model_name": "HTMLModel",
          "model_module_version": "1.5.0",
          "state": {
            "_dom_classes": [],
            "_model_module": "@jupyter-widgets/controls",
            "_model_module_version": "1.5.0",
            "_model_name": "HTMLModel",
            "_view_count": null,
            "_view_module": "@jupyter-widgets/controls",
            "_view_module_version": "1.5.0",
            "_view_name": "HTMLView",
            "description": "",
            "description_tooltip": null,
            "layout": "IPY_MODEL_60c5f4456acd44ad8da62cb14a84a6d1",
            "placeholder": "​",
            "style": "IPY_MODEL_fbb96a98fc5c41459905fcc6b1c59eff",
            "value": " 378M/378M [00:12&lt;00:00, 48.6MB/s]"
          }
        },
        "54d023edf1894919866eff0035b1967a": {
          "model_module": "@jupyter-widgets/base",
          "model_name": "LayoutModel",
          "model_module_version": "1.2.0",
          "state": {
            "_model_module": "@jupyter-widgets/base",
            "_model_module_version": "1.2.0",
            "_model_name": "LayoutModel",
            "_view_count": null,
            "_view_module": "@jupyter-widgets/base",
            "_view_module_version": "1.2.0",
            "_view_name": "LayoutView",
            "align_content": null,
            "align_items": null,
            "align_self": null,
            "border": null,
            "bottom": null,
            "display": null,
            "flex": null,
            "flex_flow": null,
            "grid_area": null,
            "grid_auto_columns": null,
            "grid_auto_flow": null,
            "grid_auto_rows": null,
            "grid_column": null,
            "grid_gap": null,
            "grid_row": null,
            "grid_template_areas": null,
            "grid_template_columns": null,
            "grid_template_rows": null,
            "height": null,
            "justify_content": null,
            "justify_items": null,
            "left": null,
            "margin": null,
            "max_height": null,
            "max_width": null,
            "min_height": null,
            "min_width": null,
            "object_fit": null,
            "object_position": null,
            "order": null,
            "overflow": null,
            "overflow_x": null,
            "overflow_y": null,
            "padding": null,
            "right": null,
            "top": null,
            "visibility": null,
            "width": null
          }
        },
        "9f969879d16d4ed8bf1c08ba92eab634": {
          "model_module": "@jupyter-widgets/base",
          "model_name": "LayoutModel",
          "model_module_version": "1.2.0",
          "state": {
            "_model_module": "@jupyter-widgets/base",
            "_model_module_version": "1.2.0",
            "_model_name": "LayoutModel",
            "_view_count": null,
            "_view_module": "@jupyter-widgets/base",
            "_view_module_version": "1.2.0",
            "_view_name": "LayoutView",
            "align_content": null,
            "align_items": null,
            "align_self": null,
            "border": null,
            "bottom": null,
            "display": null,
            "flex": null,
            "flex_flow": null,
            "grid_area": null,
            "grid_auto_columns": null,
            "grid_auto_flow": null,
            "grid_auto_rows": null,
            "grid_column": null,
            "grid_gap": null,
            "grid_row": null,
            "grid_template_areas": null,
            "grid_template_columns": null,
            "grid_template_rows": null,
            "height": null,
            "justify_content": null,
            "justify_items": null,
            "left": null,
            "margin": null,
            "max_height": null,
            "max_width": null,
            "min_height": null,
            "min_width": null,
            "object_fit": null,
            "object_position": null,
            "order": null,
            "overflow": null,
            "overflow_x": null,
            "overflow_y": null,
            "padding": null,
            "right": null,
            "top": null,
            "visibility": null,
            "width": null
          }
        },
        "1c3b309dc1ba47cfac607567a22e6256": {
          "model_module": "@jupyter-widgets/controls",
          "model_name": "DescriptionStyleModel",
          "model_module_version": "1.5.0",
          "state": {
            "_model_module": "@jupyter-widgets/controls",
            "_model_module_version": "1.5.0",
            "_model_name": "DescriptionStyleModel",
            "_view_count": null,
            "_view_module": "@jupyter-widgets/base",
            "_view_module_version": "1.2.0",
            "_view_name": "StyleView",
            "description_width": ""
          }
        },
        "20c14e1dfcc14607870a8539c008635c": {
          "model_module": "@jupyter-widgets/base",
          "model_name": "LayoutModel",
          "model_module_version": "1.2.0",
          "state": {
            "_model_module": "@jupyter-widgets/base",
            "_model_module_version": "1.2.0",
            "_model_name": "LayoutModel",
            "_view_count": null,
            "_view_module": "@jupyter-widgets/base",
            "_view_module_version": "1.2.0",
            "_view_name": "LayoutView",
            "align_content": null,
            "align_items": null,
            "align_self": null,
            "border": null,
            "bottom": null,
            "display": null,
            "flex": null,
            "flex_flow": null,
            "grid_area": null,
            "grid_auto_columns": null,
            "grid_auto_flow": null,
            "grid_auto_rows": null,
            "grid_column": null,
            "grid_gap": null,
            "grid_row": null,
            "grid_template_areas": null,
            "grid_template_columns": null,
            "grid_template_rows": null,
            "height": null,
            "justify_content": null,
            "justify_items": null,
            "left": null,
            "margin": null,
            "max_height": null,
            "max_width": null,
            "min_height": null,
            "min_width": null,
            "object_fit": null,
            "object_position": null,
            "order": null,
            "overflow": null,
            "overflow_x": null,
            "overflow_y": null,
            "padding": null,
            "right": null,
            "top": null,
            "visibility": null,
            "width": null
          }
        },
        "1e665799c9d2433ca99585ca54910f87": {
          "model_module": "@jupyter-widgets/controls",
          "model_name": "ProgressStyleModel",
          "model_module_version": "1.5.0",
          "state": {
            "_model_module": "@jupyter-widgets/controls",
            "_model_module_version": "1.5.0",
            "_model_name": "ProgressStyleModel",
            "_view_count": null,
            "_view_module": "@jupyter-widgets/base",
            "_view_module_version": "1.2.0",
            "_view_name": "StyleView",
            "bar_color": null,
            "description_width": ""
          }
        },
        "60c5f4456acd44ad8da62cb14a84a6d1": {
          "model_module": "@jupyter-widgets/base",
          "model_name": "LayoutModel",
          "model_module_version": "1.2.0",
          "state": {
            "_model_module": "@jupyter-widgets/base",
            "_model_module_version": "1.2.0",
            "_model_name": "LayoutModel",
            "_view_count": null,
            "_view_module": "@jupyter-widgets/base",
            "_view_module_version": "1.2.0",
            "_view_name": "LayoutView",
            "align_content": null,
            "align_items": null,
            "align_self": null,
            "border": null,
            "bottom": null,
            "display": null,
            "flex": null,
            "flex_flow": null,
            "grid_area": null,
            "grid_auto_columns": null,
            "grid_auto_flow": null,
            "grid_auto_rows": null,
            "grid_column": null,
            "grid_gap": null,
            "grid_row": null,
            "grid_template_areas": null,
            "grid_template_columns": null,
            "grid_template_rows": null,
            "height": null,
            "justify_content": null,
            "justify_items": null,
            "left": null,
            "margin": null,
            "max_height": null,
            "max_width": null,
            "min_height": null,
            "min_width": null,
            "object_fit": null,
            "object_position": null,
            "order": null,
            "overflow": null,
            "overflow_x": null,
            "overflow_y": null,
            "padding": null,
            "right": null,
            "top": null,
            "visibility": null,
            "width": null
          }
        },
        "fbb96a98fc5c41459905fcc6b1c59eff": {
          "model_module": "@jupyter-widgets/controls",
          "model_name": "DescriptionStyleModel",
          "model_module_version": "1.5.0",
          "state": {
            "_model_module": "@jupyter-widgets/controls",
            "_model_module_version": "1.5.0",
            "_model_name": "DescriptionStyleModel",
            "_view_count": null,
            "_view_module": "@jupyter-widgets/base",
            "_view_module_version": "1.2.0",
            "_view_name": "StyleView",
            "description_width": ""
          }
        }
      }
    }
  },
  "cells": [
    {
      "cell_type": "markdown",
      "metadata": {
        "id": "view-in-github",
        "colab_type": "text"
      },
      "source": [
        "<a href=\"https://colab.research.google.com/github/Dimlight/wav2vec2-live/blob/main/Copy_of_Speech_Transcript_with_Hugging_Face_%F0%9F%A4%97_Transformers.ipynb\" target=\"_parent\"><img src=\"https://colab.research.google.com/assets/colab-badge.svg\" alt=\"Open In Colab\"/></a>"
      ]
    },
    {
      "cell_type": "code",
      "metadata": {
        "colab": {
          "base_uri": "https://localhost:8080/"
        },
        "id": "JPHnyUBviH0c",
        "outputId": "763193c1-4044-4a64-bb44-11c4e18786ba"
      },
      "source": [
        "! pip install -q transformers"
      ],
      "execution_count": 1,
      "outputs": [
        {
          "output_type": "stream",
          "name": "stdout",
          "text": [
            "\u001b[K     |████████████████████████████████| 4.9 MB 10.7 MB/s \n",
            "\u001b[K     |████████████████████████████████| 6.6 MB 36.9 MB/s \n",
            "\u001b[K     |████████████████████████████████| 163 kB 4.2 MB/s \n",
            "\u001b[?25h"
          ]
        }
      ]
    },
    {
      "cell_type": "code",
      "metadata": {
        "id": "b1dL-TWaiL2_"
      },
      "source": [
        "import librosa\n",
        "import torch\n",
        "from transformers import Wav2Vec2ForCTC, Wav2Vec2Tokenizer"
      ],
      "execution_count": 2,
      "outputs": []
    },
    {
      "cell_type": "code",
      "metadata": {
        "id": "_7_kYLbkiTBF",
        "colab": {
          "base_uri": "https://localhost:8080/",
          "height": 319,
          "referenced_widgets": [
            "da3f253c5c6c444bb7a385aff7961722",
            "5f8ddedef43246b4947092bd6c3fd95c",
            "ce0cca0652af493d8a22a82e37afe3a6",
            "8ab6f59126d4408994a9f4ab2a72cd00",
            "b24b78a5dc544e54bce501bb76f5dd09",
            "66acc1b74e06404a83d84d2920778cd2",
            "dc8a828162b243738c0c26273d7e3963",
            "c572701ba78d4959b2fb85f88b22f8c6",
            "52fb9c3393804d20a1265c6e68e0be68",
            "a8f0411f279b47d5b47ecd7139b68ac9",
            "55219d5e37c44ed48544cb5f1d199bce",
            "2de5c1a9f1a8453d97b39e7cd878017f",
            "c5d283a13eeb4055ab5a789f7589c468",
            "a11abe73c31940d095881188cbc21e1c",
            "a14ea678336f4a19bed211d42567efc2",
            "41917d5a9d684800899fd1cd8ef2fddd",
            "d8b3b0e175e14074b058309a967ef97b",
            "9ce4cba132ef4ba48c14946982978a93",
            "0177b9aed1a4451e97dd835fcec2c17f",
            "d1394ed4494d4983932eac903b814eef",
            "4a73f46bf2b546bcbcfc391c37020bfe",
            "163f8d55cdda4d53816481e6505d94a7",
            "f6d7fec9364a4890b562b100a73bbcce",
            "a29e901cdb2944a4be5a6bf4964f5539",
            "52f3248befc04906ab1064f92de197d2",
            "3fb0526f366c4f889aa6a1bf0698ac08",
            "662d8127c1b545c2b0cd20e25b360934",
            "cdf87ba7446343dd87d4c39bb1680e4f",
            "ca3768e0ae6e4d7298644b918f3a450a",
            "b1e89f2067254972b2d9ef03630ba2e3",
            "af3d7d561d6b40acb52f7ce0f4492533",
            "a29591a109394531950ff7c6762f4f89",
            "bf229a260fdf4c1da5e8c2f3080e539f",
            "d2dbb7ee45ce469e866037b6ac8a9298",
            "dd3ce18aa33943d7956eb68af2be737d",
            "715eb2e40070407892fd89936d022507",
            "b3c786e6ef484c869464f9916eab1e59",
            "7003e7721e594226a0254ad894bc0d4b",
            "19e6d5ac973f440b9af7611f0f440b61",
            "92b7f25ae5e5469faa55d214c0061bb9",
            "674711761d474e2aaca0ed6ab9658455",
            "a9c94122652e494db5d04af4ed4e8835",
            "eba38eee6c184811ae010be13a4d16e1",
            "3d2fe93b54ec41d0b754ec58cd9995df",
            "892a795cb72c4d6781ea9f9fc827e418",
            "a3bb8fcdcafd4e1a90f832dab1df1096",
            "b1ebe9664d7f406a8aaf949106073ba3",
            "1b7f9050395542e8b77d2eaf4f701df2",
            "54d023edf1894919866eff0035b1967a",
            "9f969879d16d4ed8bf1c08ba92eab634",
            "1c3b309dc1ba47cfac607567a22e6256",
            "20c14e1dfcc14607870a8539c008635c",
            "1e665799c9d2433ca99585ca54910f87",
            "60c5f4456acd44ad8da62cb14a84a6d1",
            "fbb96a98fc5c41459905fcc6b1c59eff"
          ]
        },
        "outputId": "cc811de7-3a54-4494-9664-1f1983813a8a"
      },
      "source": [
        "#load pre-trained model and tokenizer\n",
        "tokenizer = Wav2Vec2Tokenizer.from_pretrained(\"facebook/wav2vec2-base-960h\")\n",
        "model = Wav2Vec2ForCTC.from_pretrained(\"facebook/wav2vec2-base-960h\")"
      ],
      "execution_count": 3,
      "outputs": [
        {
          "output_type": "display_data",
          "data": {
            "text/plain": [
              "Downloading:   0%|          | 0.00/291 [00:00<?, ?B/s]"
            ],
            "application/vnd.jupyter.widget-view+json": {
              "version_major": 2,
              "version_minor": 0,
              "model_id": "da3f253c5c6c444bb7a385aff7961722"
            }
          },
          "metadata": {}
        },
        {
          "output_type": "display_data",
          "data": {
            "text/plain": [
              "Downloading:   0%|          | 0.00/163 [00:00<?, ?B/s]"
            ],
            "application/vnd.jupyter.widget-view+json": {
              "version_major": 2,
              "version_minor": 0,
              "model_id": "2de5c1a9f1a8453d97b39e7cd878017f"
            }
          },
          "metadata": {}
        },
        {
          "output_type": "display_data",
          "data": {
            "text/plain": [
              "Downloading:   0%|          | 0.00/85.0 [00:00<?, ?B/s]"
            ],
            "application/vnd.jupyter.widget-view+json": {
              "version_major": 2,
              "version_minor": 0,
              "model_id": "f6d7fec9364a4890b562b100a73bbcce"
            }
          },
          "metadata": {}
        },
        {
          "output_type": "display_data",
          "data": {
            "text/plain": [
              "Downloading:   0%|          | 0.00/1.60k [00:00<?, ?B/s]"
            ],
            "application/vnd.jupyter.widget-view+json": {
              "version_major": 2,
              "version_minor": 0,
              "model_id": "d2dbb7ee45ce469e866037b6ac8a9298"
            }
          },
          "metadata": {}
        },
        {
          "output_type": "stream",
          "name": "stderr",
          "text": [
            "The tokenizer class you load from this checkpoint is not the same type as the class this function is called from. It may result in unexpected tokenization. \n",
            "The tokenizer class you load from this checkpoint is 'Wav2Vec2CTCTokenizer'. \n",
            "The class this function is called from is 'Wav2Vec2Tokenizer'.\n",
            "/usr/local/lib/python3.7/dist-packages/transformers/models/wav2vec2/tokenization_wav2vec2.py:757: FutureWarning: The class `Wav2Vec2Tokenizer` is deprecated and will be removed in version 5 of Transformers. Please use `Wav2Vec2Processor` or `Wav2Vec2CTCTokenizer` instead.\n",
            "  FutureWarning,\n"
          ]
        },
        {
          "output_type": "display_data",
          "data": {
            "text/plain": [
              "Downloading:   0%|          | 0.00/378M [00:00<?, ?B/s]"
            ],
            "application/vnd.jupyter.widget-view+json": {
              "version_major": 2,
              "version_minor": 0,
              "model_id": "892a795cb72c4d6781ea9f9fc827e418"
            }
          },
          "metadata": {}
        },
        {
          "output_type": "stream",
          "name": "stderr",
          "text": [
            "Some weights of Wav2Vec2ForCTC were not initialized from the model checkpoint at facebook/wav2vec2-base-960h and are newly initialized: ['wav2vec2.masked_spec_embed']\n",
            "You should probably TRAIN this model on a down-stream task to be able to use it for predictions and inference.\n"
          ]
        }
      ]
    },
    {
      "cell_type": "code",
      "metadata": {
        "id": "aZHVYnywjEu0"
      },
      "source": [
        "#load any audio file of your choice\n",
        "speech, rate = librosa.load(\"batman.wav\",sr=16000)"
      ],
      "execution_count": 5,
      "outputs": []
    },
    {
      "cell_type": "code",
      "metadata": {
        "colab": {
          "base_uri": "https://localhost:8080/",
          "height": 75
        },
        "id": "b_AgY6HrjGs2",
        "outputId": "df5f0655-a94b-49ea-f56f-4b9fb5c37dc2"
      },
      "source": [
        "import IPython.display as display\n",
        "display.Audio(\"batman.wav\", autoplay=True)"
      ],
      "execution_count": 7,
      "outputs": [
        {
          "output_type": "execute_result",
          "data": {
            "text/plain": [
              "<IPython.lib.display.Audio object>"
            ],
            "text/html": [
              "\n",
              "                <audio  controls=\"controls\" autoplay=\"autoplay\">\n",
              "                    <source src=\"data:audio/x-wav;base64,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\" type=\"audio/x-wav\" />\n",
              "                    Your browser does not support the audio element.\n",
              "                </audio>\n",
              "              "
            ]
          },
          "metadata": {},
          "execution_count": 7
        }
      ]
    },
    {
      "cell_type": "code",
      "metadata": {
        "id": "EKKsO6TsjToR"
      },
      "source": [
        "input_values = tokenizer(speech, return_tensors = 'pt').input_values"
      ],
      "execution_count": 8,
      "outputs": []
    },
    {
      "cell_type": "code",
      "metadata": {
        "colab": {
          "base_uri": "https://localhost:8080/"
        },
        "id": "Nx-_Kv8mrreF",
        "outputId": "0d869320-a572-41d9-e60a-de96a7be6eb1"
      },
      "source": [
        "input_values"
      ],
      "execution_count": 9,
      "outputs": [
        {
          "output_type": "execute_result",
          "data": {
            "text/plain": [
              "tensor([[-0.0504, -0.0079,  0.0371,  ..., -0.1368, -0.0812,  0.0252]])"
            ]
          },
          "metadata": {},
          "execution_count": 9
        }
      ]
    },
    {
      "cell_type": "code",
      "metadata": {
        "id": "hOnEeB8ikD2p"
      },
      "source": [
        "#Store logits (non-normalized predictions)\n",
        "logits = model(input_values).logits"
      ],
      "execution_count": 10,
      "outputs": []
    },
    {
      "cell_type": "code",
      "metadata": {
        "colab": {
          "base_uri": "https://localhost:8080/"
        },
        "id": "liLxM8KW2tFe",
        "outputId": "77eb9faf-d7a7-461f-c02c-1f95378d9cd9"
      },
      "source": [
        "logits"
      ],
      "execution_count": 11,
      "outputs": [
        {
          "output_type": "execute_result",
          "data": {
            "text/plain": [
              "tensor([[[ 12.8190, -25.2692, -24.9906,  ...,  -6.4851,  -5.8973,  -7.2066],\n",
              "         [ 12.9648, -25.6267, -25.3461,  ...,  -6.5712,  -5.9619,  -7.2153],\n",
              "         [ 13.0576, -25.6936, -25.4203,  ...,  -6.7510,  -6.0813,  -7.1977],\n",
              "         ...,\n",
              "         [ 14.2499, -26.6977, -26.4189,  ...,  -6.6885,  -6.7703,  -7.2377],\n",
              "         [ 14.0171, -26.7463, -26.5049,  ...,  -6.8938,  -6.9706,  -7.3039],\n",
              "         [ 14.1286, -27.0142, -26.7528,  ...,  -7.0909,  -7.0990,  -7.4721]]],\n",
              "       grad_fn=<ViewBackward0>)"
            ]
          },
          "metadata": {},
          "execution_count": 11
        }
      ]
    },
    {
      "cell_type": "code",
      "metadata": {
        "id": "741DtETtiW4N"
      },
      "source": [
        "#Store predicted id's\n",
        "predicted_ids = torch.argmax(logits, dim =-1)"
      ],
      "execution_count": 12,
      "outputs": []
    },
    {
      "cell_type": "code",
      "metadata": {
        "id": "5XEmE0-xjVqU"
      },
      "source": [
        "#decode the audio to generate text\n",
        "transcriptions = tokenizer.decode(predicted_ids[0])\n"
      ],
      "execution_count": 13,
      "outputs": []
    },
    {
      "cell_type": "code",
      "metadata": {
        "colab": {
          "base_uri": "https://localhost:8080/"
        },
        "id": "scP9E_yPrGpq",
        "outputId": "4842a0c0-4727-4e2d-9a0b-7a4453ff2963"
      },
      "source": [
        "print(transcriptions)"
      ],
      "execution_count": 14,
      "outputs": [
        {
          "output_type": "stream",
          "name": "stdout",
          "text": [
            "CAN THAT MAN ESCAPE ONE HINT THE WORST IS YET TO COME\n"
          ]
        }
      ]
    },
    {
      "cell_type": "code",
      "metadata": {
        "id": "DCH-Rvc921vO"
      },
      "source": [],
      "execution_count": null,
      "outputs": []
    }
  ]
}